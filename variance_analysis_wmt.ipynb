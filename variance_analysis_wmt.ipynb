{
  "nbformat": 4,
  "nbformat_minor": 0,
  "metadata": {
    "colab": {
      "name": "variance_analysis_wmt.ipynb",
      "provenance": [],
      "toc_visible": true,
      "authorship_tag": "ABX9TyN14EFuv5BYyIs2fDFqa/QU",
      "include_colab_link": true
    },
    "kernelspec": {
      "name": "python3",
      "display_name": "Python 3"
    },
    "language_info": {
      "name": "python"
    }
  },
  "cells": [
    {
      "cell_type": "markdown",
      "metadata": {
        "id": "view-in-github",
        "colab_type": "text"
      },
      "source": [
        "<a href=\"https://colab.research.google.com/github/johntzwei/metric-statistical-advantage/blob/main/variance_analysis_wmt.ipynb\" target=\"_parent\"><img src=\"https://colab.research.google.com/assets/colab-badge.svg\" alt=\"Open In Colab\"/></a>"
      ]
    },
    {
      "cell_type": "markdown",
      "metadata": {
        "id": "V4Bygq6QFUeC"
      },
      "source": [
        "# Imports"
      ]
    },
    {
      "cell_type": "code",
      "metadata": {
        "id": "KknUqKPUj2je"
      },
      "source": [
        "import pickle\n",
        "import pandas as pd\n",
        "from tqdm import tqdm\n",
        "import numpy as np\n",
        "import json"
      ],
      "execution_count": null,
      "outputs": []
    },
    {
      "cell_type": "markdown",
      "metadata": {
        "id": "CdbOBNcaqH0Z"
      },
      "source": [
        "# Data"
      ]
    },
    {
      "cell_type": "code",
      "metadata": {
        "colab": {
          "base_uri": "https://localhost:8080/"
        },
        "id": "wsCfki9medJb",
        "outputId": "3f0e738c-ccba-43d2-bfd1-b15bf582e2f2"
      },
      "source": [
        "!git clone https://github.com/johntzwei/wmt16-19-metrics-shared-task.git"
      ],
      "execution_count": null,
      "outputs": [
        {
          "output_type": "stream",
          "text": [
            "Cloning into 'wmt16-19-metrics-shared-task'...\n",
            "remote: Enumerating objects: 168, done.\u001b[K\n",
            "remote: Counting objects: 100% (48/48), done.\u001b[K\n",
            "remote: Compressing objects: 100% (31/31), done.\u001b[K\n",
            "remote: Total 168 (delta 26), reused 39 (delta 17), pack-reused 120\u001b[K\n",
            "Receiving objects: 100% (168/168), 115.17 MiB | 18.18 MiB/s, done.\n",
            "Resolving deltas: 100% (95/95), done.\n",
            "Checking out files: 100% (30/30), done.\n"
          ],
          "name": "stdout"
        }
      ]
    },
    {
      "cell_type": "code",
      "metadata": {
        "id": "0qFCNoaKj7CC"
      },
      "source": [
        "wmt16 = pickle.load(open('wmt16-19-metrics-shared-task/wmt_metadata/pickles/wmt16_sys_metadata.pkl', 'rb'))\n",
        "wmt17 = pickle.load(open('wmt16-19-metrics-shared-task/wmt_metadata/pickles/wmt17_sys_metadata.pkl', 'rb'))\n",
        "wmt18 = pickle.load(open('wmt16-19-metrics-shared-task/wmt_metadata/pickles/wmt18_sys_metadata.pkl', 'rb'))\n",
        "wmt19 = pickle.load(open('wmt16-19-metrics-shared-task/wmt_metadata/pickles/wmt19_sys_metadata.pkl', 'rb'))"
      ],
      "execution_count": null,
      "outputs": []
    },
    {
      "cell_type": "code",
      "metadata": {
        "id": "-1h4Qxl7kBbG"
      },
      "source": [
        "wmt19.drop('sys_id', axis=1, inplace=True)\n",
        "wmt18.columns = [ i if i != 'sys_id' else 'system' for i in wmt18.columns ]\n",
        "wmt17.columns = [ i if i != 'sys_id' else 'system' for i in wmt17.columns ]\n",
        "wmt16.columns = [ i if i != 'sys_id' else 'system' for i in wmt16.columns ]"
      ],
      "execution_count": null,
      "outputs": []
    },
    {
      "cell_type": "code",
      "metadata": {
        "colab": {
          "base_uri": "https://localhost:8080/"
        },
        "id": "EhFE37_joaeP",
        "outputId": "250ffcbd-8164-4857-8e76-35aca9c2ef6f"
      },
      "source": [
        "for df in [wmt16, wmt17, wmt18, wmt19]:\n",
        "  print(df.type.value_counts())\n",
        "  print()"
      ],
      "execution_count": null,
      "outputs": [
        {
          "output_type": "stream",
          "text": [
            "SYSTEM     147000\n",
            "BAD_REF     21000\n",
            "REPEAT      21000\n",
            "REF         21000\n",
            "Name: type, dtype: int64\n",
            "\n",
            "SYSTEM     273822\n",
            "REPEAT      33885\n",
            "REF         33835\n",
            "BAD_REF     33783\n",
            "Name: type, dtype: int64\n",
            "\n",
            "SYSTEM     265387\n",
            "BAD_REF     36924\n",
            "REPEAT      26489\n",
            "REF         26003\n",
            "Name: type, dtype: int64\n",
            "\n",
            "SYSTEM     139963\n",
            "REPEAT      13266\n",
            "REF         13177\n",
            "BAD_REF     13113\n",
            "Name: type, dtype: int64\n",
            "\n"
          ],
          "name": "stdout"
        }
      ]
    },
    {
      "cell_type": "markdown",
      "metadata": {
        "id": "GI6dBmkdqKRW"
      },
      "source": [
        "# Variance analysis"
      ]
    },
    {
      "cell_type": "markdown",
      "metadata": {
        "id": "6MSjDtDTqNIy"
      },
      "source": [
        "### Pooled variances"
      ]
    },
    {
      "cell_type": "code",
      "metadata": {
        "id": "bm4NeHe9oouf"
      },
      "source": [
        "def pooled_variance(groups, variable='score'):\n",
        "    stds = []\n",
        "    for i, group in groups:\n",
        "        if len(group) < 2:\n",
        "            continue   \n",
        "        stds.append((len(group), group.std()[variable]))\n",
        "        \n",
        "    num = 0\n",
        "    denom = 0\n",
        "\n",
        "    for n, sigma in stds:\n",
        "        denom += (n-1)\n",
        "        num += (n-1) * sigma * sigma\n",
        "\n",
        "    pooled_var = num / denom\n",
        "    return pooled_var"
      ],
      "execution_count": null,
      "outputs": []
    },
    {
      "cell_type": "code",
      "metadata": {
        "id": "1JOEHRsqotMH"
      },
      "source": [
        "pooled_vars_toen = {}\n",
        "for i, dataset in [('wmt16', wmt16), ('wmt17', wmt17), ('wmt18', wmt18), ('wmt19', wmt19)]:\n",
        "    dataset = dataset[dataset.type.isin(['SYSTEM', 'REPEAT']) & \\\n",
        "                      dataset.lp.str.endswith('en')]\n",
        "    pooled_vars_toen[i] = pooled_variance(dataset.groupby(['lp', 'system', 'sid']))"
      ],
      "execution_count": null,
      "outputs": []
    },
    {
      "cell_type": "code",
      "metadata": {
        "colab": {
          "base_uri": "https://localhost:8080/"
        },
        "id": "L01v-8u8owNT",
        "outputId": "fe9bba0d-28f3-4205-dd43-d94996aad1d1"
      },
      "source": [
        "pooled_vars_toen"
      ],
      "execution_count": null,
      "outputs": [
        {
          "output_type": "execute_result",
          "data": {
            "text/plain": [
              "{'wmt16': 307.17626731473774,\n",
              " 'wmt17': 527.2973972404222,\n",
              " 'wmt18': 382.8504227475613,\n",
              " 'wmt19': 458.6292985991144}"
            ]
          },
          "metadata": {
            "tags": []
          },
          "execution_count": 8
        }
      ]
    },
    {
      "cell_type": "markdown",
      "metadata": {
        "id": "jynCEKidqT3d"
      },
      "source": [
        "### Total variances"
      ]
    },
    {
      "cell_type": "code",
      "metadata": {
        "id": "6isk7enGqVH7"
      },
      "source": [
        "total_vars_toen = {}\n",
        "for i, dataset in [('wmt16', wmt16), ('wmt17', wmt17), ('wmt18', wmt18), ('wmt19', wmt19)]:\n",
        "    dataset = dataset[dataset.type.isin(['SYSTEM', 'REPEAT']) & \\\n",
        "                      dataset.lp.str.endswith('en')]\n",
        "    total_vars_toen[i] = dataset.var()['score']"
      ],
      "execution_count": null,
      "outputs": []
    },
    {
      "cell_type": "code",
      "metadata": {
        "colab": {
          "base_uri": "https://localhost:8080/"
        },
        "id": "GKejdmmtqaIB",
        "outputId": "152a6227-a77d-4f52-d92c-5e626e332449"
      },
      "source": [
        "total_vars_toen"
      ],
      "execution_count": null,
      "outputs": [
        {
          "output_type": "execute_result",
          "data": {
            "text/plain": [
              "{'wmt16': 900.3456733124744,\n",
              " 'wmt17': 879.1690392974084,\n",
              " 'wmt18': 795.9652837204678,\n",
              " 'wmt19': 829.785268929387}"
            ]
          },
          "metadata": {
            "tags": []
          },
          "execution_count": 10
        }
      ]
    },
    {
      "cell_type": "markdown",
      "metadata": {
        "id": "N041Rpc9s9ld"
      },
      "source": [
        "# Results"
      ]
    },
    {
      "cell_type": "markdown",
      "metadata": {
        "id": "GSHDYh4CqdNn"
      },
      "source": [
        "### Jsons"
      ]
    },
    {
      "cell_type": "code",
      "metadata": {
        "colab": {
          "base_uri": "https://localhost:8080/",
          "height": 35
        },
        "id": "GI5-3EoZqjTh",
        "outputId": "2ef9c135-6b8d-460d-820b-4f28087d24d6"
      },
      "source": [
        "json.dumps(pooled_vars_toen)"
      ],
      "execution_count": null,
      "outputs": [
        {
          "output_type": "execute_result",
          "data": {
            "application/vnd.google.colaboratory.intrinsic+json": {
              "type": "string"
            },
            "text/plain": [
              "'{\"wmt16\": 307.17626731473774, \"wmt17\": 527.2973972404222, \"wmt18\": 382.8504227475613, \"wmt19\": 458.6292985991144}'"
            ]
          },
          "metadata": {
            "tags": []
          },
          "execution_count": 11
        }
      ]
    },
    {
      "cell_type": "code",
      "metadata": {
        "colab": {
          "base_uri": "https://localhost:8080/",
          "height": 35
        },
        "id": "4iH9GEKgsqQR",
        "outputId": "2b24ccaa-5351-462a-9fd9-86b3fa27834a"
      },
      "source": [
        "json.dumps(total_vars_toen)"
      ],
      "execution_count": null,
      "outputs": [
        {
          "output_type": "execute_result",
          "data": {
            "application/vnd.google.colaboratory.intrinsic+json": {
              "type": "string"
            },
            "text/plain": [
              "'{\"wmt16\": 900.3456733124744, \"wmt17\": 879.1690392974084, \"wmt18\": 795.9652837204678, \"wmt19\": 829.785268929387}'"
            ]
          },
          "metadata": {
            "tags": []
          },
          "execution_count": 12
        }
      ]
    },
    {
      "cell_type": "markdown",
      "metadata": {
        "id": "dPx2sBwAFeky"
      },
      "source": [
        "### Table"
      ]
    },
    {
      "cell_type": "code",
      "metadata": {
        "colab": {
          "base_uri": "https://localhost:8080/"
        },
        "id": "d_pHTJZ0s-3n",
        "outputId": "9a04a30f-f0e9-4c52-9746-d4be030df8a7"
      },
      "source": [
        "print(\n",
        "r'''\n",
        "\\begin{table}[!h]\n",
        "\\small\n",
        "\\centering\n",
        "\\begin{tabular}{l|cccc}\n",
        "& 2016 & 2017 & 2018 & 2019 \\\\\n",
        "\\midrule\n",
        "'''\n",
        ")\n",
        "\n",
        "cols = ['wmt16', 'wmt17', 'wmt18', 'wmt19']\n",
        "\n",
        "# general human std dev\n",
        "print('$\\sqrt{\\Var(H(x))}$', end=' & ')\n",
        "l = []\n",
        "for i in cols:\n",
        "    l.append('%.2f' % np.sqrt(total_vars_toen[i]))\n",
        "print(' & '.join(l) + ' \\\\\\\\')\n",
        "\n",
        "# expected human std dev for a given input (pooled variance)\n",
        "print('$\\sqrt{\\Expect[\\Var(H(x) | x)]}$', end=' & ')\n",
        "l = []\n",
        "for i in cols:\n",
        "    l.append('%.2f' % np.sqrt(pooled_vars_toen[i]))\n",
        "print(' & '.join(l) + ' \\\\\\\\')\n",
        "\n",
        "# std dev of true segment scores (or perfect annotator)\n",
        "print('$\\sqrt{\\Var(P(x))}$', end=' & ')  \n",
        "l = []  \n",
        "p_vars = {}\n",
        "for i in cols:\n",
        "    p_var = total_vars_toen[i] - pooled_vars_toen[i]\n",
        "    p_vars[i] = p_var\n",
        "    l.append('%.2f' % np.sqrt(p_var))\n",
        "print(' & '.join(l) + ' \\\\\\\\')\n",
        "\n",
        "print('$\\Var(H(x)) / \\Var(P(x))$', end=' & ')  \n",
        "l = []\n",
        "for i in cols:\n",
        "    p_var = p_vars[i]\n",
        "    total_var = total_vars_toen[i]\n",
        "    \n",
        "    l.append('%.2f' % (total_var / p_var)) \n",
        "print(' & '.join(l) + ' \\\\\\\\')\n",
        "\n",
        "print(\n",
        "r'''\n",
        "\\end{tabular}\n",
        "\\caption{Step-by-step derivation for the efficiency ratio $r$ (fourth row) of the perfect annotator estimator for WMT16-19 as defined in \\S 4.1. Square roots are taken so that values are in terms of the original units (standard deviations, judgments range from 0-100). These were calculated on to-English data only. } \\label{perfect_annotator_derivation_wmt}\n",
        "\\end{table}\n",
        "'''\n",
        ")"
      ],
      "execution_count": null,
      "outputs": [
        {
          "output_type": "stream",
          "text": [
            "\n",
            "\\begin{table}[!h]\n",
            "\\small\n",
            "\\centering\n",
            "\\begin{tabular}{l|cccc}\n",
            "& 2016 & 2017 & 2018 & 2019 \\\\\n",
            "\\midrule\n",
            "\n",
            "$\\sqrt{\\Var(H(x))}$ & 30.01 & 29.65 & 28.21 & 28.81 \\\\\n",
            "$\\sqrt{\\Expect[\\Var(H(x) | x)]}$ & 17.53 & 22.96 & 19.57 & 21.42 \\\\\n",
            "$\\sqrt{\\Var(P(x))}$ & 24.36 & 18.76 & 20.33 & 19.27 \\\\\n",
            "$\\Var(H(x)) / \\Var(P(x))$ & 1.52 & 2.50 & 1.93 & 2.24 \\\\\n",
            "\n",
            "\\end{tabular}\n",
            "\\caption{Step-by-step derivation for the efficiency ratio $r$ (fourth row) of the perfect annotator estimator for WMT16-19 as defined in \\S 4.1. Square roots are taken so that values are in terms of the original units (standard deviations, judgments range from 0-100). These were calculated on to-English data only. } \\label{perfect_annotator_derivation_wmt}\n",
            "\\end{table}\n",
            "\n"
          ],
          "name": "stdout"
        }
      ]
    }
  ]
}