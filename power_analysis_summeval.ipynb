{
  "nbformat": 4,
  "nbformat_minor": 0,
  "metadata": {
    "colab": {
      "name": "power_analysis_summeval.ipynb",
      "provenance": [],
      "collapsed_sections": [],
      "authorship_tag": "ABX9TyNdXWHopFvd2tfojA9ZjfzK",
      "include_colab_link": true
    },
    "kernelspec": {
      "name": "python3",
      "display_name": "Python 3"
    },
    "language_info": {
      "name": "python"
    }
  },
  "cells": [
    {
      "cell_type": "markdown",
      "metadata": {
        "id": "view-in-github",
        "colab_type": "text"
      },
      "source": [
        "<a href=\"https://colab.research.google.com/github/johntzwei/metric-statistical-advantage/blob/main/power_analysis_summeval.ipynb\" target=\"_parent\"><img src=\"https://colab.research.google.com/assets/colab-badge.svg\" alt=\"Open In Colab\"/></a>"
      ]
    },
    {
      "cell_type": "markdown",
      "metadata": {
        "id": "rr7oRKa6HwMr"
      },
      "source": [
        "# Imports"
      ]
    },
    {
      "cell_type": "code",
      "metadata": {
        "colab": {
          "base_uri": "https://localhost:8080/"
        },
        "id": "vrSNt4Caidi8",
        "outputId": "07172a83-ed5a-49a4-dd65-b140f433f8df"
      },
      "source": [
        "import numpy as np\n",
        "import seaborn as sns\n",
        "sns.set_context('paper', font_scale=0.73)\n",
        "sns.set_style('whitegrid', {'font.family':'serif', 'font.serif':'Times New Roman'})\n",
        "import matplotlib.pyplot as plt\n",
        "\n",
        "from statsmodels.stats.power import TTestIndPower"
      ],
      "execution_count": null,
      "outputs": [
        {
          "output_type": "stream",
          "text": [
            "/usr/local/lib/python3.7/dist-packages/statsmodels/tools/_testing.py:19: FutureWarning: pandas.util.testing is deprecated. Use the functions in the public API at pandas.testing instead.\n",
            "  import pandas.util.testing as tm\n"
          ],
          "name": "stderr"
        }
      ]
    },
    {
      "cell_type": "markdown",
      "metadata": {
        "id": "Irmt8ke4H0-F"
      },
      "source": [
        "# Power analysis"
      ]
    },
    {
      "cell_type": "code",
      "metadata": {
        "id": "3iaNFv3Li4-1"
      },
      "source": [
        "def generate_heatmap(true_mean_var, effect_size, alpha=0.05, power=0.80, labelsize=7):\n",
        "    # rows=variance, columns=effect size\n",
        "    settings = np.array([ [j/i for j in effect_size ] for i in true_mean_var ])\n",
        "\n",
        "    # perform power analysis\n",
        "    analysis = TTestIndPower()\n",
        "    f = lambda x: analysis.solve_power(effect_size=x, alpha=alpha, power=power)\n",
        "    vf = np.vectorize(f)\n",
        "    ns = vf(settings)*2\n",
        "    \n",
        "    f, ax = plt.subplots(figsize=(3, 1.8))\n",
        "    cmap = sns.cm.rocket_r\n",
        "    p = sns.heatmap(np.log(ns), annot=ns, fmt='.0f',\n",
        "            cmap=cmap)\n",
        "    p.set_yticklabels(true_mean_var)\n",
        "    p.set_xticklabels(effect_size)\n",
        "    plt.xlabel('Difference in system quality')\n",
        "    plt.ylabel('True mean std. deviation')"
      ],
      "execution_count": null,
      "outputs": []
    },
    {
      "cell_type": "markdown",
      "metadata": {
        "id": "kdviWNNXH2eH"
      },
      "source": [
        "### Experimental parameters"
      ]
    },
    {
      "cell_type": "code",
      "metadata": {
        "id": "i4g-J3ZaisbF"
      },
      "source": [
        "# parameters for power analysis\n",
        "ALPHA = 0.05\n",
        "POWER = 0.95\n",
        "\n",
        "# x, y for summeval\n",
        "true_mean_var = np.around(np.linspace(0.4, 0.7, 6, endpoint=True)[::-1], 2)\n",
        "effect_size = [0.1, 0.2, 0.3, 0.4, 0.5]"
      ],
      "execution_count": null,
      "outputs": []
    },
    {
      "cell_type": "markdown",
      "metadata": {
        "id": "Rv_PLfPpH7V2"
      },
      "source": [
        "# Results"
      ]
    },
    {
      "cell_type": "markdown",
      "metadata": {
        "id": "W4Y4N93kH8pW"
      },
      "source": [
        "### Graph"
      ]
    },
    {
      "cell_type": "code",
      "metadata": {
        "colab": {
          "base_uri": "https://localhost:8080/",
          "height": 154
        },
        "id": "646rsgjPjWoA",
        "outputId": "77e71c08-7475-455c-fa09-62e577cfe2e1"
      },
      "source": [
        "generate_heatmap(true_mean_var, effect_size, alpha=ALPHA, power=POWER)"
      ],
      "execution_count": null,
      "outputs": [
        {
          "output_type": "display_data",
          "data": {
            "image/png": "[encoded data removed]",
            "text/plain": [
              "<Figure size 216x129.6 with 2 Axes>"
            ]
          },
          "metadata": {
            "tags": [],
            "needs_background": "light"
          }
        }
      ]
    }
  ]
}