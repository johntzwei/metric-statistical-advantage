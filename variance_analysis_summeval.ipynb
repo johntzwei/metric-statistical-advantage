{
  "nbformat": 4,
  "nbformat_minor": 0,
  "metadata": {
    "colab": {
      "name": "variance_analysis_summeval.ipynb",
      "provenance": [],
      "collapsed_sections": [],
      "toc_visible": true,
      "authorship_tag": "ABX9TyOb6Je+F2UjnyIVaTCaI5cs",
      "include_colab_link": true
    },
    "kernelspec": {
      "name": "python3",
      "display_name": "Python 3"
    },
    "language_info": {
      "name": "python"
    }
  },
  "cells": [
    {
      "cell_type": "markdown",
      "metadata": {
        "id": "view-in-github",
        "colab_type": "text"
      },
      "source": [
        "<a href=\"https://colab.research.google.com/github/johntzwei/metric-statistical-advantage/blob/main/variance_analysis_summeval.ipynb\" target=\"_parent\"><img src=\"https://colab.research.google.com/assets/colab-badge.svg\" alt=\"Open In Colab\"/></a>"
      ]
    },
    {
      "cell_type": "markdown",
      "metadata": {
        "id": "5kfeBrQsz6tv"
      },
      "source": [
        "# Imports"
      ]
    },
    {
      "cell_type": "code",
      "metadata": {
        "id": "KknUqKPUj2je"
      },
      "source": [
        "import pickle\n",
        "import pandas as pd\n",
        "from tqdm import tqdm\n",
        "import numpy as np\n",
        "import json"
      ],
      "execution_count": null,
      "outputs": []
    },
    {
      "cell_type": "markdown",
      "metadata": {
        "id": "CdbOBNcaqH0Z"
      },
      "source": [
        "# Data"
      ]
    },
    {
      "cell_type": "code",
      "metadata": {
        "colab": {
          "base_uri": "https://localhost:8080/"
        },
        "id": "wsCfki9medJb",
        "outputId": "258bc25e-2eaa-47cd-cf0b-bd41f236a7cf"
      },
      "source": [
        "!wget https://github.com/johntzwei/robust-metrics/raw/master/acl2021/model_annotations.aligned.scored.jsonl"
      ],
      "execution_count": null,
      "outputs": [
        {
          "output_type": "stream",
          "text": [
            "--2021-05-24 15:33:53--  https://github.com/johntzwei/robust-metrics/raw/master/acl2021/model_annotations.aligned.scored.jsonl\n",
            "Resolving github.com (github.com)... 140.82.114.3\n",
            "Connecting to github.com (github.com)|140.82.114.3|:443... connected.\n",
            "HTTP request sent, awaiting response... 302 Found\n",
            "Location: https://raw.githubusercontent.com/johntzwei/robust-metrics/master/acl2021/model_annotations.aligned.scored.jsonl [following]\n",
            "--2021-05-24 15:33:53--  https://raw.githubusercontent.com/johntzwei/robust-metrics/master/acl2021/model_annotations.aligned.scored.jsonl\n",
            "Resolving raw.githubusercontent.com (raw.githubusercontent.com)... 185.199.109.133, 185.199.108.133, 185.199.111.133, ...\n",
            "Connecting to raw.githubusercontent.com (raw.githubusercontent.com)|185.199.109.133|:443... connected.\n",
            "HTTP request sent, awaiting response... 200 OK\n",
            "Length: 22198374 (21M) [text/plain]\n",
            "Saving to: ‘model_annotations.aligned.scored.jsonl’\n",
            "\n",
            "model_annotations.a 100%[===================>]  21.17M  40.2MB/s    in 0.5s    \n",
            "\n",
            "2021-05-24 15:33:54 (40.2 MB/s) - ‘model_annotations.aligned.scored.jsonl’ saved [22198374/22198374]\n",
            "\n"
          ],
          "name": "stdout"
        }
      ]
    },
    {
      "cell_type": "code",
      "metadata": {
        "id": "-1h4Qxl7kBbG"
      },
      "source": [
        "lines = list(open('./model_annotations.aligned.scored.jsonl', 'rt'))\n",
        "objs = [ json.loads(i) for i in lines ]"
      ],
      "execution_count": null,
      "outputs": []
    },
    {
      "cell_type": "code",
      "metadata": {
        "colab": {
          "base_uri": "https://localhost:8080/"
        },
        "id": "BqNa9UCGwMx2",
        "outputId": "ca2ed922-c691-42a8-9195-49c1a645bf81"
      },
      "source": [
        "objs[0]"
      ],
      "execution_count": null,
      "outputs": [
        {
          "output_type": "execute_result",
          "data": {
            "text/plain": [
              "{'decoded': \"paul merson was brought on with only seven minutes remaining in his team 's 0-0 draw with burnley . andros townsend scored the tottenham midfielder in the 89th minute . paul merson had another dig at andros townsend after his appearance . the midfielder had been brought on to the england squad last week . click here for all the latest arsenal news news .\",\n",
              " 'expert_annotations': [{'coherence': 2,\n",
              "   'consistency': 1,\n",
              "   'fluency': 4,\n",
              "   'relevance': 2},\n",
              "  {'coherence': 1, 'consistency': 1, 'fluency': 2, 'relevance': 1},\n",
              "  {'coherence': 1, 'consistency': 1, 'fluency': 3, 'relevance': 2}],\n",
              " 'filepath': 'cnndm/dailymail/stories/8764fb95bfad8ee849274873a92fb8d6b400eee2.story',\n",
              " 'id': 'dm-test-8764fb95bfad8ee849274873a92fb8d6b400eee2',\n",
              " 'metric_scores_1': {'bert_score_f1': 0.39986729621887207,\n",
              "  'bert_score_precision': 0.35211145877838135,\n",
              "  'bert_score_recall': 0.44890454411506653,\n",
              "  'blanc': 0.1702127659574468,\n",
              "  'bleu': 6.083760628516704,\n",
              "  'chrf': 0.3665588486313395,\n",
              "  'cider': 0.000476465973430153,\n",
              "  'compression': 5.7164179104477615,\n",
              "  'coverage': 0.8805970149253731,\n",
              "  'density': 8.014925373134329,\n",
              "  'meteor': 0.20587803719678144,\n",
              "  'mover_score': 0.20714491943496283,\n",
              "  'percentage_novel_1-gram': 0.15217391304347827,\n",
              "  'percentage_novel_2-gram': 0.36507936507936506,\n",
              "  'percentage_novel_3-gram': 0.49230769230769234,\n",
              "  'percentage_repeated_1-gram_in_summ': 0.32608695652173914,\n",
              "  'percentage_repeated_2-gram_in_summ': 0.047619047619047616,\n",
              "  'percentage_repeated_3-gram_in_summ': 0.0,\n",
              "  'rouge': {'rouge_1_f_score': 0.40404,\n",
              "   'rouge_1_f_score_cb': 0.40404,\n",
              "   'rouge_1_f_score_ce': 0.40404,\n",
              "   'rouge_1_precision': 0.32787,\n",
              "   'rouge_1_precision_cb': 0.32787,\n",
              "   'rouge_1_precision_ce': 0.32787,\n",
              "   'rouge_1_recall': 0.52632,\n",
              "   'rouge_1_recall_cb': 0.52632,\n",
              "   'rouge_1_recall_ce': 0.52632,\n",
              "   'rouge_2_f_score': 0.10309,\n",
              "   'rouge_2_f_score_cb': 0.10309,\n",
              "   'rouge_2_f_score_ce': 0.10309,\n",
              "   'rouge_2_precision': 0.08333,\n",
              "   'rouge_2_precision_cb': 0.08333,\n",
              "   'rouge_2_precision_ce': 0.08333,\n",
              "   'rouge_2_recall': 0.13514,\n",
              "   'rouge_2_recall_cb': 0.13514,\n",
              "   'rouge_2_recall_ce': 0.13514,\n",
              "   'rouge_3_f_score': 0.02105,\n",
              "   'rouge_3_f_score_cb': 0.02105,\n",
              "   'rouge_3_f_score_ce': 0.02105,\n",
              "   'rouge_3_precision': 0.01695,\n",
              "   'rouge_3_precision_cb': 0.01695,\n",
              "   'rouge_3_precision_ce': 0.01695,\n",
              "   'rouge_3_recall': 0.02778,\n",
              "   'rouge_3_recall_cb': 0.02778,\n",
              "   'rouge_3_recall_ce': 0.02778,\n",
              "   'rouge_4_f_score': 0.0,\n",
              "   'rouge_4_f_score_cb': 0.0,\n",
              "   'rouge_4_f_score_ce': 0.0,\n",
              "   'rouge_4_precision': 0.0,\n",
              "   'rouge_4_precision_cb': 0.0,\n",
              "   'rouge_4_precision_ce': 0.0,\n",
              "   'rouge_4_recall': 0.0,\n",
              "   'rouge_4_recall_cb': 0.0,\n",
              "   'rouge_4_recall_ce': 0.0,\n",
              "   'rouge_l_f_score': 0.34344,\n",
              "   'rouge_l_f_score_cb': 0.34344,\n",
              "   'rouge_l_f_score_ce': 0.34344,\n",
              "   'rouge_l_precision': 0.27869,\n",
              "   'rouge_l_precision_cb': 0.27869,\n",
              "   'rouge_l_precision_ce': 0.27869,\n",
              "   'rouge_l_recall': 0.44737,\n",
              "   'rouge_l_recall_cb': 0.44737,\n",
              "   'rouge_l_recall_ce': 0.44737,\n",
              "   'rouge_s*_f_score': 0.11607,\n",
              "   'rouge_s*_f_score_cb': 0.11607,\n",
              "   'rouge_s*_f_score_ce': 0.11607,\n",
              "   'rouge_s*_precision': 0.08033,\n",
              "   'rouge_s*_precision_cb': 0.08033,\n",
              "   'rouge_s*_precision_ce': 0.08033,\n",
              "   'rouge_s*_recall': 0.2091,\n",
              "   'rouge_s*_recall_cb': 0.2091,\n",
              "   'rouge_s*_recall_ce': 0.2091,\n",
              "   'rouge_su*_f_score': 0.127,\n",
              "   'rouge_su*_f_score_cb': 0.127,\n",
              "   'rouge_su*_f_score_ce': 0.127,\n",
              "   'rouge_su*_precision': 0.08836,\n",
              "   'rouge_su*_precision_cb': 0.08836,\n",
              "   'rouge_su*_precision_ce': 0.08836,\n",
              "   'rouge_su*_recall': 0.22568,\n",
              "   'rouge_su*_recall_cb': 0.22568,\n",
              "   'rouge_su*_recall_ce': 0.22568,\n",
              "   'rouge_w_1.2_f_score': 0.19673,\n",
              "   'rouge_w_1.2_f_score_cb': 0.19673,\n",
              "   'rouge_w_1.2_f_score_ce': 0.19673,\n",
              "   'rouge_w_1.2_precision': 0.20025,\n",
              "   'rouge_w_1.2_precision_cb': 0.20025,\n",
              "   'rouge_w_1.2_precision_ce': 0.20025,\n",
              "   'rouge_w_1.2_recall': 0.19333,\n",
              "   'rouge_w_1.2_recall_cb': 0.19333,\n",
              "   'rouge_w_1.2_recall_ce': 0.19333},\n",
              "  'rouge_we_1_f': 0.4242424242424242,\n",
              "  'rouge_we_1_p': 0.3442622950819672,\n",
              "  'rouge_we_1_r': 0.5526315789473685,\n",
              "  'rouge_we_2_f': 0.20618556701030927,\n",
              "  'rouge_we_2_p': 0.16666666666666666,\n",
              "  'rouge_we_2_r': 0.2702702702702703,\n",
              "  'rouge_we_3_f': 0.2526315789473684,\n",
              "  'rouge_we_3_p': 0.2033898305084746,\n",
              "  'rouge_we_3_r': 0.3333333333333333,\n",
              "  's3_pyr': 0.5138552796481362,\n",
              "  's3_resp': 0.5399066733977832,\n",
              "  'sentence_movers_glove_sms': 0.06495136276955908,\n",
              "  'summaqa_avg_fscore': 0.1886075002233539,\n",
              "  'summaqa_avg_prob': 0.22760273161335276,\n",
              "  'summary_length': 67,\n",
              "  'supert': [0.5082315472161808]},\n",
              " 'metric_scores_11': {'bert_score_f1': 0.39986729621887207,\n",
              "  'bert_score_precision': 0.35211145877838135,\n",
              "  'bert_score_recall': 0.4669802486896515,\n",
              "  'bleu': 17.739249301205447,\n",
              "  'chrf': 0.37584654170245696,\n",
              "  'cider': 0.006275403184798777,\n",
              "  'meteor': 0.22054811934790902,\n",
              "  'mover_score': 0.20714491943496283,\n",
              "  'rouge': {'rouge_1_f_score': 0.30514,\n",
              "   'rouge_1_f_score_cb': 0.30514,\n",
              "   'rouge_1_f_score_ce': 0.30514,\n",
              "   'rouge_1_precision': 0.2608,\n",
              "   'rouge_1_precision_cb': 0.2608,\n",
              "   'rouge_1_precision_ce': 0.2608,\n",
              "   'rouge_1_recall': 0.36765,\n",
              "   'rouge_1_recall_cb': 0.36765,\n",
              "   'rouge_1_recall_ce': 0.36765,\n",
              "   'rouge_2_f_score': 0.07111,\n",
              "   'rouge_2_f_score_cb': 0.07111,\n",
              "   'rouge_2_f_score_ce': 0.07111,\n",
              "   'rouge_2_precision': 0.06061,\n",
              "   'rouge_2_precision_cb': 0.06061,\n",
              "   'rouge_2_precision_ce': 0.06061,\n",
              "   'rouge_2_recall': 0.08602,\n",
              "   'rouge_2_recall_cb': 0.08602,\n",
              "   'rouge_2_recall_ce': 0.08602,\n",
              "   'rouge_3_f_score': 0.00725,\n",
              "   'rouge_3_f_score_cb': 0.00725,\n",
              "   'rouge_3_f_score_ce': 0.00725,\n",
              "   'rouge_3_precision': 0.00616,\n",
              "   'rouge_3_precision_cb': 0.00616,\n",
              "   'rouge_3_precision_ce': 0.00616,\n",
              "   'rouge_3_recall': 0.00881,\n",
              "   'rouge_3_recall_cb': 0.00881,\n",
              "   'rouge_3_recall_ce': 0.00881,\n",
              "   'rouge_4_f_score': 0.00185,\n",
              "   'rouge_4_f_score_cb': 0.00185,\n",
              "   'rouge_4_f_score_ce': 0.00185,\n",
              "   'rouge_4_precision': 0.00157,\n",
              "   'rouge_4_precision_cb': 0.00157,\n",
              "   'rouge_4_precision_ce': 0.00157,\n",
              "   'rouge_4_recall': 0.00226,\n",
              "   'rouge_4_recall_cb': 0.00226,\n",
              "   'rouge_4_recall_ce': 0.00226,\n",
              "   'rouge_l_f_score': 0.27724,\n",
              "   'rouge_l_f_score_cb': 0.27724,\n",
              "   'rouge_l_f_score_ce': 0.27724,\n",
              "   'rouge_l_precision': 0.23696,\n",
              "   'rouge_l_precision_cb': 0.23696,\n",
              "   'rouge_l_precision_ce': 0.23696,\n",
              "   'rouge_l_recall': 0.33403,\n",
              "   'rouge_l_recall_cb': 0.33403,\n",
              "   'rouge_l_recall_ce': 0.33403,\n",
              "   'rouge_s*_f_score': 0.07346,\n",
              "   'rouge_s*_f_score_cb': 0.07346,\n",
              "   'rouge_s*_f_score_ce': 0.07346,\n",
              "   'rouge_s*_precision': 0.05902,\n",
              "   'rouge_s*_precision_cb': 0.05902,\n",
              "   'rouge_s*_precision_ce': 0.05902,\n",
              "   'rouge_s*_recall': 0.09724,\n",
              "   'rouge_s*_recall_cb': 0.09724,\n",
              "   'rouge_s*_recall_ce': 0.09724,\n",
              "   'rouge_su*_f_score': 0.08132,\n",
              "   'rouge_su*_f_score_cb': 0.08132,\n",
              "   'rouge_su*_f_score_ce': 0.08132,\n",
              "   'rouge_su*_precision': 0.06546,\n",
              "   'rouge_su*_precision_cb': 0.06546,\n",
              "   'rouge_su*_precision_ce': 0.06546,\n",
              "   'rouge_su*_recall': 0.10732,\n",
              "   'rouge_su*_recall_cb': 0.10732,\n",
              "   'rouge_su*_recall_ce': 0.10732,\n",
              "   'rouge_w_1.2_f_score': 0.14941,\n",
              "   'rouge_w_1.2_f_score_cb': 0.14941,\n",
              "   'rouge_w_1.2_f_score_ce': 0.14941,\n",
              "   'rouge_w_1.2_precision': 0.16977,\n",
              "   'rouge_w_1.2_precision_cb': 0.16977,\n",
              "   'rouge_w_1.2_precision_ce': 0.16977,\n",
              "   'rouge_w_1.2_recall': 0.13341,\n",
              "   'rouge_w_1.2_recall_cb': 0.13341,\n",
              "   'rouge_w_1.2_recall_ce': 0.13341},\n",
              "  'rouge_we_1_f': 0.3068875326939843,\n",
              "  'rouge_we_1_p': 0.26229508196721313,\n",
              "  'rouge_we_1_r': 0.3697478991596639,\n",
              "  'rouge_we_2_f': 0.17244444444444443,\n",
              "  'rouge_we_2_p': 0.14696969696969697,\n",
              "  'rouge_we_2_r': 0.2086021505376344,\n",
              "  'rouge_we_3_f': 0.19220308250226653,\n",
              "  'rouge_we_3_p': 0.1633281972265023,\n",
              "  'rouge_we_3_r': 0.23348017621145375,\n",
              "  's3_pyr': 0.3142966794421268,\n",
              "  's3_resp': 0.41782829418745904,\n",
              "  'sentence_movers_glove_sms': 0.06918031888110396},\n",
              " 'metric_scores_6': {'bert_score_f1': 0.39986729621887207,\n",
              "  'bert_score_precision': 0.35211145877838135,\n",
              "  'bert_score_recall': 0.44890454411506653,\n",
              "  'bleu': 6.553696789015757,\n",
              "  'chrf': 0.3665588486313395,\n",
              "  'cider': 0.0012168318349665298,\n",
              "  'meteor': 0.20587803719678144,\n",
              "  'mover_score': 0.20714491943496283,\n",
              "  'rouge': {'rouge_1_f_score': 0.29582,\n",
              "   'rouge_1_f_score_cb': 0.29582,\n",
              "   'rouge_1_f_score_ce': 0.29582,\n",
              "   'rouge_1_precision': 0.25137,\n",
              "   'rouge_1_precision_cb': 0.25137,\n",
              "   'rouge_1_precision_ce': 0.25137,\n",
              "   'rouge_1_recall': 0.35938,\n",
              "   'rouge_1_recall_cb': 0.35938,\n",
              "   'rouge_1_recall_ce': 0.35938,\n",
              "   'rouge_2_f_score': 0.06885,\n",
              "   'rouge_2_f_score_cb': 0.06885,\n",
              "   'rouge_2_f_score_ce': 0.06885,\n",
              "   'rouge_2_precision': 0.05833,\n",
              "   'rouge_2_precision_cb': 0.05833,\n",
              "   'rouge_2_precision_ce': 0.05833,\n",
              "   'rouge_2_recall': 0.084,\n",
              "   'rouge_2_recall_cb': 0.084,\n",
              "   'rouge_2_recall_ce': 0.084,\n",
              "   'rouge_3_f_score': 0.00334,\n",
              "   'rouge_3_f_score_cb': 0.00334,\n",
              "   'rouge_3_f_score_ce': 0.00334,\n",
              "   'rouge_3_precision': 0.00282,\n",
              "   'rouge_3_precision_cb': 0.00282,\n",
              "   'rouge_3_precision_ce': 0.00282,\n",
              "   'rouge_3_recall': 0.0041,\n",
              "   'rouge_3_recall_cb': 0.0041,\n",
              "   'rouge_3_recall_ce': 0.0041,\n",
              "   'rouge_4_f_score': 0.0,\n",
              "   'rouge_4_f_score_cb': 0.0,\n",
              "   'rouge_4_f_score_ce': 0.0,\n",
              "   'rouge_4_precision': 0.0,\n",
              "   'rouge_4_precision_cb': 0.0,\n",
              "   'rouge_4_precision_ce': 0.0,\n",
              "   'rouge_4_recall': 0.0,\n",
              "   'rouge_4_recall_cb': 0.0,\n",
              "   'rouge_4_recall_ce': 0.0,\n",
              "   'rouge_l_f_score': 0.26688,\n",
              "   'rouge_l_f_score_cb': 0.26688,\n",
              "   'rouge_l_f_score_ce': 0.26688,\n",
              "   'rouge_l_precision': 0.22678,\n",
              "   'rouge_l_precision_cb': 0.22678,\n",
              "   'rouge_l_precision_ce': 0.22678,\n",
              "   'rouge_l_recall': 0.32422,\n",
              "   'rouge_l_recall_cb': 0.32422,\n",
              "   'rouge_l_recall_ce': 0.32422,\n",
              "   'rouge_s*_f_score': 0.07111,\n",
              "   'rouge_s*_f_score_cb': 0.07111,\n",
              "   'rouge_s*_f_score_ce': 0.07111,\n",
              "   'rouge_s*_precision': 0.05628,\n",
              "   'rouge_s*_precision_cb': 0.05628,\n",
              "   'rouge_s*_precision_ce': 0.05628,\n",
              "   'rouge_s*_recall': 0.09656,\n",
              "   'rouge_s*_recall_cb': 0.09656,\n",
              "   'rouge_s*_recall_ce': 0.09656,\n",
              "   'rouge_su*_f_score': 0.07893,\n",
              "   'rouge_su*_f_score_cb': 0.07893,\n",
              "   'rouge_su*_f_score_ce': 0.07893,\n",
              "   'rouge_su*_precision': 0.06261,\n",
              "   'rouge_su*_precision_cb': 0.06261,\n",
              "   'rouge_su*_precision_ce': 0.06261,\n",
              "   'rouge_su*_recall': 0.10677,\n",
              "   'rouge_su*_recall_cb': 0.10677,\n",
              "   'rouge_su*_recall_ce': 0.10677,\n",
              "   'rouge_w_1.2_f_score': 0.14732,\n",
              "   'rouge_w_1.2_f_score_cb': 0.14732,\n",
              "   'rouge_w_1.2_f_score_ce': 0.14732,\n",
              "   'rouge_w_1.2_precision': 0.16788,\n",
              "   'rouge_w_1.2_precision_cb': 0.16788,\n",
              "   'rouge_w_1.2_precision_ce': 0.16788,\n",
              "   'rouge_w_1.2_recall': 0.13125,\n",
              "   'rouge_w_1.2_recall_cb': 0.13125,\n",
              "   'rouge_w_1.2_recall_ce': 0.13125},\n",
              "  'rouge_we_1_f': 0.2990353697749197,\n",
              "  'rouge_we_1_p': 0.2540983606557377,\n",
              "  'rouge_we_1_r': 0.36328125,\n",
              "  'rouge_we_2_f': 0.1704918032786885,\n",
              "  'rouge_we_2_p': 0.14444444444444443,\n",
              "  'rouge_we_2_r': 0.208,\n",
              "  'rouge_we_3_f': 0.18394648829431437,\n",
              "  'rouge_we_3_p': 0.1553672316384181,\n",
              "  'rouge_we_3_r': 0.22540983606557377,\n",
              "  's3_pyr': 0.29475104358272186,\n",
              "  's3_resp': 0.40497873646371374,\n",
              "  'sentence_movers_glove_sms': 0.06724293375462721},\n",
              " 'model_id': 'M11',\n",
              " 'references': [\"Andros Townsend an 83rd minute sub in Tottenham's draw with Burnley. He was unable to find a winner as the game ended without a goal. Townsend had clashed with Paul Merson last week over England call-up.\",\n",
              "  'Sports columnist Paul Merson and Andros Townsend are in the midst of a twitter feud. Merson started it when Townsend was called up and wrote something disparaging about him in his column. Since then things have gone back and forth between the two.',\n",
              "  'Merson is angered by the statement made by Townsend in his Sky Sports column. Merson threw a dig at Townsend after scoring his last game.',\n",
              "  \"Paul Merson has officially restarted his row line up with Andros Townsend. This is a result of seeing Townsend's performance in the last seven minutes of the game the previous Sunday.\",\n",
              "  'An athlete was brought in to save the game during an event against a rival team.  Although many disagreed with this decision as players have been known to get in trouble from time to time.',\n",
              "  'Paul Merson and Andros Townsend have been in a bout for a while now, Merson felt that Townsend did not deserve a place in the English team. Townsend scored for England with a crucial goal to which Merson apologized and acknowledge the performance of Townsend in that game and wished him well on his performance. The back and forth between the two men has continued regardless but it appears that now their bad feelings have subsided despite some light jest between the two.',\n",
              "  'Paul Merson restarted his fued with the former Arenal player Andros Townsend. Townsend the former Arsenal player scored a goal for England against italy. Townsend replied to Mersons remarks on Twitter by saying \"not bad for a player that should be` nowhere near the squad \\'ay\"',\n",
              "  'Paul Merson used to play for Arsenal. Andros Townsend has been criticized by Paul Merson. The goal scored against Italy was made by Townsend.',\n",
              "  'Paul Merson, former Arsenal player and Andros Townsend have restarted their bout of banter. Merson tweeted about Townsend and his poor performance making it clear he did not believe that Townsend was good enough to play for England. Townsend however scored the crucial goal for England vs Italy. Merson swallowed his criticism of Townsend and acknowledge his performance. The two are in a good place now however and any subsequent banter between the two appears to have been in good taste.',\n",
              "  'Andros Townsend used to play for arsenal. Sky sports pundit Merson criticized Andros Townsend. Andros Townsend scored a goal against Italy to a draw.',\n",
              "  'Paul Merson, the Sky Sports pundit, criticized Andros Townsend last week after his call-up to the england squad.  Merson admitted it was a mistake after Townsend scored, bringing the match against Italy to a tie on Tuesday.  Merson is a former Arsenal player himself.'],\n",
              " 'turker_annotations': [{'coherence': 3,\n",
              "   'consistency': 3,\n",
              "   'fluency': 4,\n",
              "   'relevance': 3},\n",
              "  {'coherence': 3, 'consistency': 3, 'fluency': 4, 'relevance': 3},\n",
              "  {'coherence': 3, 'consistency': 3, 'fluency': 4, 'relevance': 3},\n",
              "  {'coherence': 3, 'consistency': 3, 'fluency': 4, 'relevance': 3},\n",
              "  {'coherence': 3, 'consistency': 3, 'fluency': 4, 'relevance': 3}]}"
            ]
          },
          "metadata": {
            "tags": []
          },
          "execution_count": 4
        }
      ]
    },
    {
      "cell_type": "markdown",
      "metadata": {
        "id": "GI6dBmkdqKRW"
      },
      "source": [
        "# Variance analysis"
      ]
    },
    {
      "cell_type": "code",
      "metadata": {
        "id": "EhFE37_joaeP"
      },
      "source": [
        "def get_annotations(x, agg=lambda x: np.mean(list(x.values())), annotations='expert_annotations'):\n",
        "    scores = []\n",
        "    if annotations not in x:\n",
        "        return []\n",
        "    \n",
        "    for expert in x[annotations]:\n",
        "        scores.append(agg(expert)) \n",
        "    return scores"
      ],
      "execution_count": null,
      "outputs": []
    },
    {
      "cell_type": "markdown",
      "metadata": {
        "id": "6MSjDtDTqNIy"
      },
      "source": [
        "### Pooled variances"
      ]
    },
    {
      "cell_type": "code",
      "metadata": {
        "id": "bm4NeHe9oouf"
      },
      "source": [
        "def pooled_variance(objs, annotations):\n",
        "    stds = []\n",
        "    for obj in objs:\n",
        "        scores = annotations(obj)\n",
        "        if scores != []:\n",
        "            stds.append((len(scores), np.var(scores)))\n",
        "        \n",
        "    num = 0\n",
        "    denom = 0\n",
        "\n",
        "    for n, var in stds:\n",
        "        denom += (n-1)\n",
        "        num += (n-1) * var\n",
        "\n",
        "    pooled_var = num / denom\n",
        "    return pooled_var"
      ],
      "execution_count": null,
      "outputs": []
    },
    {
      "cell_type": "code",
      "metadata": {
        "id": "1JOEHRsqotMH",
        "colab": {
          "base_uri": "https://localhost:8080/"
        },
        "outputId": "a593a67d-02f6-4727-80d8-7f9fbdc5606f"
      },
      "source": [
        "pooled_var_expert = pooled_variance(objs, get_annotations)\n",
        "pooled_var_expert"
      ],
      "execution_count": null,
      "outputs": [
        {
          "output_type": "execute_result",
          "data": {
            "text/plain": [
              "0.0859722222222225"
            ]
          },
          "metadata": {
            "tags": []
          },
          "execution_count": 7
        }
      ]
    },
    {
      "cell_type": "code",
      "metadata": {
        "colab": {
          "base_uri": "https://localhost:8080/"
        },
        "id": "ytQifrwFt_xP",
        "outputId": "bf81f452-88ba-49ea-c058-adb168ed7db6"
      },
      "source": [
        "pooled_var_turkers = pooled_variance(objs, lambda x: get_annotations(x, annotations='turker_annotations'))\n",
        "pooled_var_turkers"
      ],
      "execution_count": null,
      "outputs": [
        {
          "output_type": "execute_result",
          "data": {
            "text/plain": [
              "0.22594999999999998"
            ]
          },
          "metadata": {
            "tags": []
          },
          "execution_count": 8
        }
      ]
    },
    {
      "cell_type": "code",
      "metadata": {
        "colab": {
          "base_uri": "https://localhost:8080/"
        },
        "id": "L01v-8u8owNT",
        "outputId": "9a4f2aa7-0bdd-4b7d-a554-26c8e0ad0a08"
      },
      "source": [
        "pooled_vars = {'expert' : pooled_var_expert, 'turker' : pooled_var_turkers}\n",
        "pooled_vars"
      ],
      "execution_count": null,
      "outputs": [
        {
          "output_type": "execute_result",
          "data": {
            "text/plain": [
              "{'expert': 0.0859722222222225, 'turker': 0.22594999999999998}"
            ]
          },
          "metadata": {
            "tags": []
          },
          "execution_count": 9
        }
      ]
    },
    {
      "cell_type": "markdown",
      "metadata": {
        "id": "jynCEKidqT3d"
      },
      "source": [
        "### Total variances"
      ]
    },
    {
      "cell_type": "code",
      "metadata": {
        "id": "6isk7enGqVH7",
        "colab": {
          "base_uri": "https://localhost:8080/"
        },
        "outputId": "8267e960-fb1f-4d3e-e687-bf770c7ed080"
      },
      "source": [
        "all_scores = sum([ get_annotations(obj) for obj in objs ], [])\n",
        "total_var_expert = np.var(all_scores)\n",
        "total_var_expert"
      ],
      "execution_count": null,
      "outputs": [
        {
          "output_type": "execute_result",
          "data": {
            "text/plain": [
              "0.5144329560745868"
            ]
          },
          "metadata": {
            "tags": []
          },
          "execution_count": 10
        }
      ]
    },
    {
      "cell_type": "code",
      "metadata": {
        "colab": {
          "base_uri": "https://localhost:8080/"
        },
        "id": "kHAcU7c5w3QY",
        "outputId": "fd2740eb-1ddd-482f-fc3a-063f5ec96971"
      },
      "source": [
        "all_scores = sum([ get_annotations(obj, annotations='turker_annotations') for obj in objs ], [])\n",
        "total_var_turker = np.var(all_scores)\n",
        "total_var_turker"
      ],
      "execution_count": null,
      "outputs": [
        {
          "output_type": "execute_result",
          "data": {
            "text/plain": [
              "0.5551246093750001"
            ]
          },
          "metadata": {
            "tags": []
          },
          "execution_count": 11
        }
      ]
    },
    {
      "cell_type": "code",
      "metadata": {
        "colab": {
          "base_uri": "https://localhost:8080/"
        },
        "id": "GKejdmmtqaIB",
        "outputId": "481558f3-2877-4b9f-d69b-5297392196bd"
      },
      "source": [
        "total_vars = {'expert' : total_var_expert, 'turker' : total_var_turker}\n",
        "total_vars"
      ],
      "execution_count": null,
      "outputs": [
        {
          "output_type": "execute_result",
          "data": {
            "text/plain": [
              "{'expert': 0.5144329560745868, 'turker': 0.5551246093750001}"
            ]
          },
          "metadata": {
            "tags": []
          },
          "execution_count": 12
        }
      ]
    },
    {
      "cell_type": "markdown",
      "metadata": {
        "id": "N041Rpc9s9ld"
      },
      "source": [
        "# Results"
      ]
    },
    {
      "cell_type": "markdown",
      "metadata": {
        "id": "GSHDYh4CqdNn"
      },
      "source": [
        "### Jsons"
      ]
    },
    {
      "cell_type": "code",
      "metadata": {
        "colab": {
          "base_uri": "https://localhost:8080/",
          "height": 35
        },
        "id": "GI5-3EoZqjTh",
        "outputId": "90623e86-66e4-49e8-a50b-9786ce373a46"
      },
      "source": [
        "json.dumps(pooled_vars)"
      ],
      "execution_count": null,
      "outputs": [
        {
          "output_type": "execute_result",
          "data": {
            "application/vnd.google.colaboratory.intrinsic+json": {
              "type": "string"
            },
            "text/plain": [
              "'{\"expert\": 0.0859722222222225, \"turker\": 0.22594999999999998}'"
            ]
          },
          "metadata": {
            "tags": []
          },
          "execution_count": 13
        }
      ]
    },
    {
      "cell_type": "code",
      "metadata": {
        "colab": {
          "base_uri": "https://localhost:8080/",
          "height": 35
        },
        "id": "4iH9GEKgsqQR",
        "outputId": "668ca1e3-d964-45ec-8873-f554f8a2e5f6"
      },
      "source": [
        "json.dumps(total_vars)"
      ],
      "execution_count": null,
      "outputs": [
        {
          "output_type": "execute_result",
          "data": {
            "application/vnd.google.colaboratory.intrinsic+json": {
              "type": "string"
            },
            "text/plain": [
              "'{\"expert\": 0.5144329560745868, \"turker\": 0.5551246093750001}'"
            ]
          },
          "metadata": {
            "tags": []
          },
          "execution_count": 14
        }
      ]
    },
    {
      "cell_type": "markdown",
      "metadata": {
        "id": "DElhQMm_xTB5"
      },
      "source": [
        "### Table"
      ]
    },
    {
      "cell_type": "code",
      "metadata": {
        "colab": {
          "base_uri": "https://localhost:8080/"
        },
        "id": "d_pHTJZ0s-3n",
        "outputId": "3f929e98-cf24-491f-f7b1-14b1139738ee"
      },
      "source": [
        "print(\n",
        "r'''\n",
        "\\begin{table}[!h]\n",
        "    \\small\n",
        "    \\centering\n",
        "    \\begin{tabular}{l|cc}\n",
        "         & Expert & Turker \\\\\n",
        "         \\midrule\n",
        "'''\n",
        ")\n",
        "\n",
        "cols = ['expert', 'turker']\n",
        "\n",
        "# general human std dev\n",
        "print('$\\sqrt{\\Var(H(x))}$', end=' & ')\n",
        "l = []\n",
        "for i in cols:\n",
        "    l.append('%.2f' % np.sqrt(total_vars[i]))\n",
        "print(' & '.join(l) + ' \\\\\\\\')\n",
        "\n",
        "# expected human std dev for a given input (pooled variance)\n",
        "print('$\\sqrt{\\Expect[\\Var(H(x) | x)]}$', end=' & ')\n",
        "l = []\n",
        "for i in cols:\n",
        "    l.append('%.2f' % np.sqrt(pooled_vars[i]))\n",
        "print(' & '.join(l) + ' \\\\\\\\')\n",
        "\n",
        "# std dev of true segment scores (or perfect annotator)\n",
        "print('$\\sqrt{\\Var(P(x))}$', end=' & ')  \n",
        "l = []  \n",
        "p_vars = {}\n",
        "for i in cols:\n",
        "    p_var = total_vars[i] - pooled_vars[i]\n",
        "    p_vars[i] = p_var\n",
        "    l.append('%.3f' % np.sqrt(p_var))\n",
        "print(' & '.join(l) + ' \\\\\\\\')\n",
        "\n",
        "print('$\\Var(H(x)) / \\Var(P(x))$', end=' & ')  \n",
        "l = []\n",
        "for i in cols:\n",
        "    p_var = p_vars[i]\n",
        "    total_var = total_vars[i]\n",
        "    \n",
        "    l.append('%.3f' % (total_var / p_var)) \n",
        "print(' & '.join(l) + ' \\\\\\\\')\n",
        "\n",
        "print(\n",
        "r'''\n",
        "    \\end{tabular}\n",
        "    \\caption{Step-by-step derivation for the efficiency ratio $r$ (fourth row) of the perfect annotator estimator for SummEval as defined in \\S 4.1. Square roots are taken so that values are in terms of the original units (standard deviations, judgments range from 1-5). Note that there is little agreement between experts and turkers at the system level.} \\label{perfect_annotator_derivation_summeval}\n",
        "\\end{table}\n",
        "'''\n",
        ")"
      ],
      "execution_count": null,
      "outputs": [
        {
          "output_type": "stream",
          "text": [
            "\n",
            "\\begin{table}[!h]\n",
            "    \\small\n",
            "    \\centering\n",
            "    \\begin{tabular}{l|cc}\n",
            "         & Expert & Turker \\\\\n",
            "         \\midrule\n",
            "\n",
            "$\\sqrt{\\Var(H(x))}$ & 0.72 & 0.75 \\\\\n",
            "$\\sqrt{\\Expect[\\Var(H(x) | x)]}$ & 0.29 & 0.48 \\\\\n",
            "$\\sqrt{\\Var(P(x))}$ & 0.655 & 0.574 \\\\\n",
            "$\\Var(H(x)) / \\Var(P(x))$ & 1.201 & 1.686 \\\\\n",
            "\n",
            "    \\end{tabular}\n",
            "    \\caption{Step-by-step derivation for the efficiency ratio $r$ (fourth row) of the perfect annotator estimator for SummEval as defined in \\S 4.1. Square roots are taken so that values are in terms of the original units (standard deviations, judgments range from 1-5). Note that there is little agreement between experts and turkers at the system level.} \\label{perfect_annotator_derivation_summeval}\n",
            "\\end{table}\n",
            "\n"
          ],
          "name": "stdout"
        }
      ]
    }
  ]
}